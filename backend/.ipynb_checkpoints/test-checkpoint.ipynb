{
 "cells": [
  {
   "cell_type": "markdown",
   "id": "0293a266",
   "metadata": {},
   "source": [
    "## 実験・検証するためのノートブック"
   ]
  },
  {
   "cell_type": "code",
   "execution_count": 6,
   "id": "b7ef2f34",
   "metadata": {},
   "outputs": [],
   "source": [
    "import cv2"
   ]
  },
  {
   "cell_type": "code",
   "execution_count": 3,
   "id": "2680b34f",
   "metadata": {},
   "outputs": [],
   "source": [
    "img = cv2.imread(\"./image/field.jpg\")"
   ]
  },
  {
   "cell_type": "markdown",
   "id": "4aac6520",
   "metadata": {},
   "source": [
    "## ARマーカー検知"
   ]
  },
  {
   "cell_type": "code",
   "execution_count": 7,
   "id": "b780002f",
   "metadata": {},
   "outputs": [
    {
     "ename": "AttributeError",
     "evalue": "module 'cv2' has no attribute 'aruco'",
     "output_type": "error",
     "traceback": [
      "\u001b[0;31m---------------------------------------------------------------------------\u001b[0m",
      "\u001b[0;31mAttributeError\u001b[0m                            Traceback (most recent call last)",
      "Input \u001b[0;32mIn [7]\u001b[0m, in \u001b[0;36m<cell line: 1>\u001b[0;34m()\u001b[0m\n\u001b[0;32m----> 1\u001b[0m aruco \u001b[38;5;241m=\u001b[39m \u001b[43mcv2\u001b[49m\u001b[38;5;241;43m.\u001b[39;49m\u001b[43maruco\u001b[49m\n\u001b[1;32m      2\u001b[0m p_dict \u001b[38;5;241m=\u001b[39m aruco\u001b[38;5;241m.\u001b[39mgetPredefinedDictionary(aruco\u001b[38;5;241m.\u001b[39mDICT_4X4_50)\n\u001b[1;32m      3\u001b[0m corners, ids, rejectedImgPoints \u001b[38;5;241m=\u001b[39m aruco\u001b[38;5;241m.\u001b[39mdetectMarkers(img, p_dict) \u001b[38;5;66;03m# 検出\u001b[39;00m\n",
      "\u001b[0;31mAttributeError\u001b[0m: module 'cv2' has no attribute 'aruco'"
     ]
    }
   ],
   "source": [
    "aruco = cv2.aruco\n",
    "p_dict = aruco.getPredefinedDictionary(aruco.DICT_4X4_50)\n",
    "corners, ids, rejectedImgPoints = aruco.detectMarkers(img, p_dict) # 検出\n",
    "img_marked = aruco.drawDetectedMarkers(img.copy(), corners, ids)   # 検出結果をオーバーレイ"
   ]
  },
  {
   "cell_type": "code",
   "execution_count": null,
   "id": "5b48b6ca",
   "metadata": {},
   "outputs": [],
   "source": []
  }
 ],
 "metadata": {
  "kernelspec": {
   "display_name": "Python 3 (ipykernel)",
   "language": "python",
   "name": "python3"
  },
  "language_info": {
   "codemirror_mode": {
    "name": "ipython",
    "version": 3
   },
   "file_extension": ".py",
   "mimetype": "text/x-python",
   "name": "python",
   "nbconvert_exporter": "python",
   "pygments_lexer": "ipython3",
   "version": "3.9.9"
  }
 },
 "nbformat": 4,
 "nbformat_minor": 5
}
